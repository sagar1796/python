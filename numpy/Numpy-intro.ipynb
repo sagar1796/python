{
 "cells": [
  {
   "cell_type": "markdown",
   "id": "9e8d642e",
   "metadata": {},
   "source": [
    "## NumPy \n",
    "the powerhouse of data analysis and scientific computing, simplifies manipulating vectors and matrices. It's crucial for leading Python packages like scikit-learn, SciPy, pandas, and tensorflow. Mastering NumPy gives you an edge in advanced use cases, debugging, and serving data to ML models. Explore its versatility in representing various data types, from tables to images and text."
   ]
  },
  {
   "cell_type": "code",
   "execution_count": 1,
   "id": "ae9ba505",
   "metadata": {},
   "outputs": [],
   "source": [
    "import numpy as np"
   ]
  },
  {
   "cell_type": "markdown",
   "id": "d670e509",
   "metadata": {},
   "source": [
    "### create Numpy array \n",
    "To create a NumPy array, we can utilize the np.array() function and pass a Python list as an argument. This will generate the corresponding NumPy array. Here's an example:"
   ]
  },
  {
   "cell_type": "code",
   "execution_count": 2,
   "id": "0c81d305",
   "metadata": {},
   "outputs": [
    {
     "name": "stdout",
     "output_type": "stream",
     "text": [
      "[1 2 3 4 5]\n"
     ]
    }
   ],
   "source": [
    "import numpy as np\n",
    "\n",
    "my_list = [1, 2, 3, 4, 5]\n",
    "my_array = np.array(my_list)\n",
    "\n",
    "print(my_array)"
   ]
  },
  {
   "cell_type": "markdown",
   "id": "b54d5d3a",
   "metadata": {},
   "source": [
    "In certain situations, we may prefer NumPy to initialize the values of the array for us. For such cases, NumPy offers methods like ones(), zeros(), and random.random(). These functions allow us to specify the desired number of elements, and NumPy will generate the array accordingly. Here's an example:"
   ]
  },
  {
   "cell_type": "code",
   "execution_count": 3,
   "id": "7cb036f2",
   "metadata": {},
   "outputs": [
    {
     "name": "stdout",
     "output_type": "stream",
     "text": [
      "[1. 1. 1. 1. 1.]\n",
      "[0. 0. 0.]\n",
      "[0.72369965 0.31977628 0.25358464 0.53966995]\n"
     ]
    }
   ],
   "source": [
    "import numpy as np\n",
    "\n",
    "# Create an array of ones\n",
    "ones_array = np.ones(5)\n",
    "print(ones_array)\n",
    "\n",
    "# Create an array of zeros\n",
    "zeros_array = np.zeros(3)\n",
    "print(zeros_array)\n",
    "\n",
    "# Create an array with random values\n",
    "random_array = np.random.random(4)\n",
    "print(random_array)\n",
    "\n",
    "#Once we’ve created our arrays, we can start to manipulate them in interesting ways.\n",
    "\n"
   ]
  },
  {
   "cell_type": "markdown",
   "id": "07ab5226",
   "metadata": {},
   "source": [
    "# Array Arithmetic\n",
    "To demonstrate the usefulness of NumPy arrays, let's create two arrays: `data` and `ones`. \n",
    "\n",
    "Performing element-wise addition, which adds the values of each corresponding position, is as simple as using the `+` operator between the arrays. Here's an example:\n",
    "\n"
   ]
  },
  {
   "cell_type": "code",
   "execution_count": 9,
   "id": "4e88a58d",
   "metadata": {},
   "outputs": [],
   "source": [
    "data=np.random.random(3)\n",
    "ones=np.ones(3)\n",
    "addition=data+ones"
   ]
  },
  {
   "cell_type": "markdown",
   "id": "9d639152",
   "metadata": {},
   "source": [
    "Indeed, the abstraction provided by NumPy allows us to perform various mathematical operations on arrays without the need for explicit loops. It enables us to think about problems at a higher level and express computations concisely. Apart from addition, we can perform other operations as well. Here are a few examples:\n",
    "\n"
   ]
  },
  {
   "cell_type": "code",
   "execution_count": 12,
   "id": "7a5df507",
   "metadata": {},
   "outputs": [
    {
     "name": "stdout",
     "output_type": "stream",
     "text": [
      "[-1  0  1  2  3]\n",
      "[ 3  6  9 12 15]\n",
      "[0.5 1.  1.5 2.  2.5]\n",
      "[ 1  4  9 16 25]\n"
     ]
    }
   ],
   "source": [
    "import numpy as np\n",
    "\n",
    "data = np.array([1, 2, 3, 4, 5])\n",
    "\n",
    "# Subtraction\n",
    "result_sub = data - 2\n",
    "print(result_sub)  # [ -1   0   1   2   3]\n",
    "\n",
    "# Multiplication\n",
    "result_mul = data * 3\n",
    "print(result_mul)  # [ 3  6  9 12 15]\n",
    "\n",
    "# Division\n",
    "result_div = data / 2\n",
    "print(result_div)  # [0.5 1.  1.5 2.  2.5]\n",
    "\n",
    "# Exponentiation\n",
    "result_exp = data ** 2\n",
    "print(result_exp)  # [ 1  4  9 16 25]\n"
   ]
  },
  {
   "cell_type": "markdown",
   "id": "a06dd99b",
   "metadata": {},
   "source": [
    "In this example, we perform subtraction, multiplication, division, and exponentiation on the data array. The corresponding operations are applied element-wise, resulting in new arrays result_sub, result_mul, result_div, and result_exp. Each array contains the result of the respective operation applied to each element of the original array."
   ]
  },
  {
   "cell_type": "markdown",
   "id": "8ac57d3a",
   "metadata": {},
   "source": [
    "# broadcasting\n",
    "NumPy's ability to understand and apply operations on arrays with different shapes is known as broadcasting. Broadcasting is a powerful concept that allows NumPy to perform operations even when the shapes of the arrays don't match exactly. It automatically aligns the dimensions and applies the operation element-wise.\n",
    "\n",
    "Let's consider an example to showcase the usefulness of broadcasting:\n",
    "\n"
   ]
  },
  {
   "cell_type": "code",
   "execution_count": 13,
   "id": "59dfc3ab",
   "metadata": {},
   "outputs": [
    {
     "name": "stdout",
     "output_type": "stream",
     "text": [
      "[ 2  4  6  8 10]\n",
      "[2 3 4 5 6]\n"
     ]
    }
   ],
   "source": [
    "import numpy as np\n",
    "\n",
    "data = np.array([1, 2, 3, 4, 5])\n",
    "\n",
    "# Broadcasting with a scalar value\n",
    "result_scalar = data * 2\n",
    "print(result_scalar)  # [ 2  4  6  8 10]\n",
    "\n",
    "# Broadcasting with a one-dimensional array\n",
    "ones = np.array([1])\n",
    "result_array = data + ones\n",
    "print(result_array)  # [2 3 4 5 6]\n",
    "\n",
    "\n"
   ]
  },
  {
   "cell_type": "markdown",
   "id": "0b4b4dd5",
   "metadata": {},
   "source": [
    "In the first case, broadcasting occurs when we multiply the `data` array by the scalar value `2`. The scalar is automatically expanded to match the shape of the array, and the multiplication is performed element-wise.\n",
    "\n",
    "In the second case, we use broadcasting to add the `ones` array (with shape `(1,)`) to the `data` array (with shape `(5,)`). The `ones` array is automatically broadcasted to match the shape of the `data` array, and the addition is applied element-wise.\n",
    "\n",
    "Broadcasting simplifies the process of performing operations on arrays of different shapes and allows for more concise and efficient code."
   ]
  },
  {
   "cell_type": "markdown",
   "id": "94ec12c6",
   "metadata": {},
   "source": [
    "# indexing \n",
    "\n",
    "We can index and slice NumPy arrays in all the ways we can slice python lists:"
   ]
  },
  {
   "cell_type": "code",
   "execution_count": 14,
   "id": "eb57cc53",
   "metadata": {},
   "outputs": [
    {
     "name": "stdout",
     "output_type": "stream",
     "text": [
      "1\n",
      "[3 4 5]\n",
      "[1 2 3 4 5 6]\n",
      "[ 5  6  7  8  9 10]\n",
      "[2 4 6 8]\n"
     ]
    }
   ],
   "source": [
    "import numpy as np\n",
    "\n",
    "data = np.array([1, 2, 3, 4, 5, 6, 7, 8, 9, 10])\n",
    "\n",
    "# Accessing a single element\n",
    "print(data[0])  # 1\n",
    "\n",
    "# Slicing from index 2 to 5 (exclusive)\n",
    "print(data[2:5])  # [3 4 5]\n",
    "\n",
    "# Slicing from the beginning to index 6 (exclusive)\n",
    "print(data[:6])  # [1 2 3 4 5 6]\n",
    "\n",
    "# Slicing from index 4 to the end\n",
    "print(data[4:])  # [5 6 7 8 9 10]\n",
    "\n",
    "# Slicing with a step of 2\n",
    "print(data[1:9:2])  # [2 4 6 8]\n"
   ]
  },
  {
   "cell_type": "markdown",
   "id": "f3037df5",
   "metadata": {},
   "source": [
    "# Aggregation\n",
    "NumPy provides a range of aggregation functions that allow us to perform calculations and obtain useful information about arrays. Let's explore some of the common aggregation functions available in NumPy:\n",
    "\n",
    "https://jakevdp.github.io/PythonDataScienceHandbook/02.04-computation-on-arrays-aggregates.html\n",
    "\n"
   ]
  },
  {
   "cell_type": "code",
   "execution_count": 16,
   "id": "4c1ea4df",
   "metadata": {},
   "outputs": [
    {
     "name": "stdout",
     "output_type": "stream",
     "text": [
      "55\n",
      "1\n",
      "10\n",
      "5.5\n",
      "2.8722813232690143\n",
      "9\n",
      "1\n"
     ]
    }
   ],
   "source": [
    "\n",
    "import numpy as np\n",
    "\n",
    "data = np.array([1, 2, 3, 4, 5, 6, 7, 8, 9, 10])\n",
    "\n",
    "# Computing the sum of all elements\n",
    "print(np.sum(data))  # 55\n",
    "\n",
    "# Finding the minimum value\n",
    "print(np.min(data))  # 1\n",
    "\n",
    "# Finding the maximum value\n",
    "print(np.max(data))  # 10\n",
    "\n",
    "# Computing the mean (average) value\n",
    "print(np.mean(data))  # 5.5\n",
    "\n",
    "# Calculating the standard deviation\n",
    "print(np.std(data))  # 2.8722813232690143\n",
    "\n",
    "# Finding the index of the maximum value\n",
    "print(np.argmax(data))  # 9\n",
    "\n",
    "# Counting the number of occurrences of a specific value\n",
    "print(np.count_nonzero(data == 3))  # 1\n",
    "\n",
    "\n"
   ]
  },
  {
   "cell_type": "markdown",
   "id": "9797c467",
   "metadata": {},
   "source": [
    "NumPy's versatility extends beyond one-dimensional arrays and includes multi-dimensional arrays, commonly referred to as matrices. To create matrices in NumPy, we can pass nested Python lists with appropriate dimensions to the `np.array()` function. Here's an example:\n",
    "\n"
   ]
  },
  {
   "cell_type": "code",
   "execution_count": 17,
   "id": "ab1c782f",
   "metadata": {},
   "outputs": [
    {
     "name": "stdout",
     "output_type": "stream",
     "text": [
      "[[1 2 3]\n",
      " [4 5 6]\n",
      " [7 8 9]]\n"
     ]
    }
   ],
   "source": [
    "import numpy as np\n",
    "\n",
    "matrix = np.array([[1, 2, 3], [4, 5, 6], [7, 8, 9]])\n",
    "print(matrix)\n"
   ]
  },
  {
   "cell_type": "markdown",
   "id": "e27294ed",
   "metadata": {},
   "source": [
    "In this example, we create a 3x3 matrix by passing a nested list of lists to np.array(). The resulting matrix is displayed, showing the values arranged in rows and columns.\n",
    "\n",
    "NumPy allows us to create matrices of any desired dimensions by appropriately structuring the nested lists. This flexibility enables us to represent and manipulate multi-dimensional data efficiently, opening up possibilities for various applications in fields such as image processing, machine learning, and scientific computing."
   ]
  },
  {
   "cell_type": "markdown",
   "id": "d9f8f3cf",
   "metadata": {},
   "source": [
    "Indeed, NumPy provides the same methods like ones(), zeros(), and random.random() for creating matrices of specified dimensions. We can pass a tuple representing the shape or dimensions of the matrix to these methods. Here's an example:"
   ]
  },
  {
   "cell_type": "code",
   "execution_count": 18,
   "id": "50789b19",
   "metadata": {},
   "outputs": [
    {
     "name": "stdout",
     "output_type": "stream",
     "text": [
      "[[1. 1. 1.]\n",
      " [1. 1. 1.]]\n",
      "[[0. 0. 0. 0.]\n",
      " [0. 0. 0. 0.]\n",
      " [0. 0. 0. 0.]]\n",
      "[[0.91062882 0.31257188]\n",
      " [0.78878994 0.05761415]]\n"
     ]
    }
   ],
   "source": [
    "import numpy as np\n",
    "\n",
    "# Create a matrix of ones with shape (2, 3)\n",
    "ones_matrix = np.ones((2, 3))\n",
    "print(ones_matrix)\n",
    "\n",
    "# Create a matrix of zeros with shape (3, 4)\n",
    "zeros_matrix = np.zeros((3, 4))\n",
    "print(zeros_matrix)\n",
    "\n",
    "# Create a matrix with random values with shape (2, 2)\n",
    "random_matrix = np.random.random((2, 2))\n",
    "print(random_matrix)\n"
   ]
  },
  {
   "cell_type": "markdown",
   "id": "88ce5933",
   "metadata": {},
   "source": [
    "\n",
    "NumPy allows us to perform arithmetic operations like addition (+), subtraction (-), and multiplication (*) on matrices, assuming the matrices have the same dimensions. These operations are applied element-wise, known as position-wise operations. Here's an example"
   ]
  },
  {
   "cell_type": "code",
   "execution_count": 19,
   "id": "530bd0e7",
   "metadata": {},
   "outputs": [
    {
     "name": "stdout",
     "output_type": "stream",
     "text": [
      "[[ 8 10 12]\n",
      " [14 16 18]]\n",
      "[[-6 -6 -6]\n",
      " [-6 -6 -6]]\n",
      "[[ 7 16 27]\n",
      " [40 55 72]]\n"
     ]
    }
   ],
   "source": [
    "import numpy as np\n",
    "\n",
    "matrix1 = np.array([[1, 2, 3], [4, 5, 6]])\n",
    "matrix2 = np.array([[7, 8, 9], [10, 11, 12]])\n",
    "\n",
    "# Addition of matrices\n",
    "result_add = matrix1 + matrix2\n",
    "print(result_add)\n",
    "\n",
    "# Subtraction of matrices\n",
    "result_sub = matrix1 - matrix2\n",
    "print(result_sub)\n",
    "\n",
    "# Multiplication of matrices\n",
    "result_mul = matrix1 * matrix2\n",
    "print(result_mul)\n"
   ]
  },
  {
   "cell_type": "markdown",
   "id": "ab07e152",
   "metadata": {},
   "source": [
    "## Dot Product\n",
    "Indeed, a key distinction in matrix operations is the dot product, which represents matrix multiplication. NumPy provides the `dot()` method to perform dot product operations between matrices. Here's an example:\n",
    "\n"
   ]
  },
  {
   "cell_type": "code",
   "execution_count": 21,
   "id": "ff7340b9",
   "metadata": {},
   "outputs": [
    {
     "name": "stdout",
     "output_type": "stream",
     "text": [
      "[[19 22]\n",
      " [43 50]]\n"
     ]
    }
   ],
   "source": [
    "import numpy as np\n",
    "\n",
    "matrix1 = np.array([[1, 2], [3, 4]])\n",
    "matrix2 = np.array([[5, 6], [7, 8]])\n",
    "\n",
    "# Dot product of matrices\n",
    "result_dot = np.dot(matrix1, matrix2)\n",
    "print(result_dot)\n"
   ]
  },
  {
   "cell_type": "markdown",
   "id": "bac7930e",
   "metadata": {},
   "source": [
    "## Matrix Indexing\n",
    "Indeed, indexing and slicing operations become even more powerful when working with matrices in NumPy. We can extract specific elements, rows, or columns from a matrix using indexing and slicing techniques. Here's an example:\n",
    "\n"
   ]
  },
  {
   "cell_type": "code",
   "execution_count": 22,
   "id": "652c8b6c",
   "metadata": {},
   "outputs": [
    {
     "name": "stdout",
     "output_type": "stream",
     "text": [
      "2\n",
      "[4 5 6]\n",
      "[3 6 9]\n",
      "[[4 5]\n",
      " [7 8]]\n"
     ]
    }
   ],
   "source": [
    "import numpy as np\n",
    "\n",
    "matrix = np.array([[1, 2, 3], [4, 5, 6], [7, 8, 9]])\n",
    "\n",
    "# Accessing a single element\n",
    "print(matrix[0, 1])  # 2\n",
    "\n",
    "# Slicing rows\n",
    "print(matrix[1])  # [4 5 6]\n",
    "\n",
    "# Slicing columns\n",
    "print(matrix[:, 2])  # [3 6 9]\n",
    "\n",
    "# Slicing a submatrix\n",
    "print(matrix[1:, :2])\n",
    "# [[4 5]\n",
    "#  [7 8]]\n"
   ]
  },
  {
   "cell_type": "markdown",
   "id": "50cc814e",
   "metadata": {},
   "source": [
    "## Matrix Aggregation\n",
    "NumPy provides aggregation functions that operate on matrices, allowing us to compute summary statistics or aggregate values along specific axes. These functions summarize the data in a matrix and provide valuable insights. Here are a few examples:\n",
    "\n"
   ]
  },
  {
   "cell_type": "code",
   "execution_count": 23,
   "id": "7343da7c",
   "metadata": {},
   "outputs": [
    {
     "name": "stdout",
     "output_type": "stream",
     "text": [
      "45\n",
      "1\n",
      "9\n",
      "[12 15 18]\n",
      "[2. 5. 8.]\n"
     ]
    }
   ],
   "source": [
    "import numpy as np\n",
    "\n",
    "matrix = np.array([[1, 2, 3], [4, 5, 6], [7, 8, 9]])\n",
    "\n",
    "# Computing the sum of all elements in the matrix\n",
    "print(np.sum(matrix))  # 45\n",
    "\n",
    "# Computing the minimum value in the matrix\n",
    "print(np.min(matrix))  # 1\n",
    "\n",
    "# Computing the maximum value in the matrix\n",
    "print(np.max(matrix))  # 9\n",
    "\n",
    "# Computing the sum along each column (axis=0)\n",
    "print(np.sum(matrix, axis=0))\n",
    "# [12 15 18]\n",
    "\n",
    "# Computing the mean along each row (axis=1)\n",
    "print(np.mean(matrix, axis=1))\n",
    "# [2. 5. 8.]\n"
   ]
  },
  {
   "cell_type": "markdown",
   "id": "20cd8970",
   "metadata": {},
   "source": [
    "## Transpose\n",
    "When working with matrices, it is often necessary to transpose them, especially when aligning dimensions for operations like dot product. NumPy arrays provide a convenient property called T to obtain the transpose of a matrix. Here's an example:"
   ]
  },
  {
   "cell_type": "code",
   "execution_count": 40,
   "id": "bfa27a07",
   "metadata": {},
   "outputs": [
    {
     "data": {
      "text/plain": [
       "15"
      ]
     },
     "execution_count": 40,
     "metadata": {},
     "output_type": "execute_result"
    }
   ],
   "source": [
    "matrix=np.array(([1,2,4],[3,2,3]))\n",
    "sum(matrix)\n",
    "matrix.sum()"
   ]
  },
  {
   "cell_type": "code",
   "execution_count": 36,
   "id": "84e8e943",
   "metadata": {},
   "outputs": [],
   "source": [
    "matrixT=matrix.T"
   ]
  },
  {
   "cell_type": "code",
   "execution_count": 37,
   "id": "8c97539e",
   "metadata": {},
   "outputs": [
    {
     "data": {
      "text/plain": [
       "array([[1, 3],\n",
       "       [2, 2],\n",
       "       [4, 3]])"
      ]
     },
     "execution_count": 37,
     "metadata": {},
     "output_type": "execute_result"
    }
   ],
   "source": [
    "matrixT"
   ]
  },
  {
   "attachments": {},
   "cell_type": "markdown",
   "id": "4b9e18b4",
   "metadata": {},
   "source": [
    "# Reshape\n",
    " Reshaping in NumPy allows us to change the shape or dimensions of an array without modifying its data. The reshape() function in NumPy can be used to achieve this. Here's an example:"
   ]
  },
  {
   "attachments": {
    "image.png": {
     "image/png": "[encoded data removed]"
    }
   },
   "cell_type": "markdown",
   "id": "3c5093d2",
   "metadata": {},
   "source": [
    "![image.png](attachment:image.png)"
   ]
  },
  {
   "cell_type": "code",
   "execution_count": 41,
   "id": "41c87e4a",
   "metadata": {},
   "outputs": [
    {
     "data": {
      "text/plain": [
       "array([[1, 2, 3],\n",
       "       [4, 5, 6]])"
      ]
     },
     "execution_count": 41,
     "metadata": {},
     "output_type": "execute_result"
    }
   ],
   "source": [
    "data=np.array([1,2,3,4,5,6])\n",
    "data.reshape(2,3)"
   ]
  },
  {
   "cell_type": "code",
   "execution_count": 42,
   "id": "af60e365",
   "metadata": {},
   "outputs": [
    {
     "data": {
      "text/plain": [
       "array([[1, 2],\n",
       "       [3, 4],\n",
       "       [5, 6]])"
      ]
     },
     "execution_count": 42,
     "metadata": {},
     "output_type": "execute_result"
    }
   ],
   "source": [
    "data.reshape(3,2)"
   ]
  },
  {
   "attachments": {
    "image-2.png": {
     "image/png": "[encoded data removed]"
    },
    "image.png": {
     "image/png": "[encoded data removed]"
    }
   },
   "cell_type": "markdown",
   "id": "8b699d7f",
   "metadata": {},
   "source": [
    "NumPy can do everything we’ve mentioned in any number of dimensions. Its central data structure is called ndarray (N-Dimensional Array) for a reason.\n",
    "![image.png](attachment:image.png)\n",
    "\n",
    "![image-2.png](attachment:image-2.png)"
   ]
  },
  {
   "cell_type": "code",
   "execution_count": 43,
   "id": "bd03458f",
   "metadata": {},
   "outputs": [
    {
     "name": "stdout",
     "output_type": "stream",
     "text": [
      "0.27465042335401635\n"
     ]
    }
   ],
   "source": [
    "# practical uses\n",
    "import numpy as np\n",
    "\n",
    "# Generate random data for training a model\n",
    "X = np.random.rand(100, 3)  # Input features\n",
    "y = np.random.randint(0, 2, size=100)  # Target labels\n",
    "\n",
    "# Compute dot product\n",
    "weights = np.array([0.5, 0.3, 0.2])\n",
    "predictions = np.dot(X, weights)\n",
    "\n",
    "# Compute mean squared error\n",
    "mse = np.mean((predictions - y)**2)\n",
    "print(mse)\n"
   ]
  },
  {
   "cell_type": "code",
   "execution_count": 48,
   "id": "ef40b996",
   "metadata": {},
   "outputs": [
    {
     "name": "stdout",
     "output_type": "stream",
     "text": [
      "[ 6.        +0.j          2.54508497-0.22451399j -3.04508497+2.48989828j\n",
      " -3.04508497-2.48989828j  2.54508497+0.22451399j]\n",
      "-1.4224732503009818e-16\n"
     ]
    }
   ],
   "source": [
    "import numpy as np\n",
    "\n",
    "# Compute Fast Fourier Transform (FFT)\n",
    "signal = np.array([1, 2, 1, -1, 3])\n",
    "transformed_signal = np.fft.fft(signal)\n",
    "print(transformed_signal)\n",
    "\n",
    "# Perform numerical integration\n",
    "x = np.linspace(0, 2*np.pi, 100)\n",
    "y = np.sin(x)\n",
    "integral = np.trapz(y, x)\n",
    "print(integral)\n"
   ]
  },
  {
   "cell_type": "code",
   "execution_count": null,
   "id": "1c96c77b",
   "metadata": {},
   "outputs": [],
   "source": []
  },
  {
   "cell_type": "code",
   "execution_count": null,
   "id": "e9d8cc16",
   "metadata": {},
   "outputs": [],
   "source": []
  }
 ],
 "metadata": {
  "kernelspec": {
   "display_name": "Python 3 (ipykernel)",
   "language": "python",
   "name": "python3"
  },
  "language_info": {
   "codemirror_mode": {
    "name": "ipython",
    "version": 3
   },
   "file_extension": ".py",
   "mimetype": "text/x-python",
   "name": "python",
   "nbconvert_exporter": "python",
   "pygments_lexer": "ipython3",
   "version": "3.10.11"
  }
 },
 "nbformat": 4,
 "nbformat_minor": 5
}
