{
 "cells": [
  {
   "cell_type": "code",
   "execution_count": 1,
   "metadata": {},
   "outputs": [
    {
     "name": "stdout",
     "output_type": "stream",
     "text": [
      "m\n",
      "e\n",
      "a\n",
      "l\n",
      "s\n"
     ]
    }
   ],
   "source": [
    "for char in \"meals\":\n",
    "    print(char)"
   ]
  },
  {
   "cell_type": "code",
   "execution_count": 2,
   "metadata": {},
   "outputs": [
    {
     "name": "stdout",
     "output_type": "stream",
     "text": [
      "pasta\n",
      "biscuit\n",
      "samosa\n"
     ]
    }
   ],
   "source": [
    "meals=[\"pasta\",\"biscuit\",\"samosa\"]\n",
    "for item in meals:\n",
    "    print(item)"
   ]
  },
  {
   "cell_type": "code",
   "execution_count": 3,
   "metadata": {},
   "outputs": [],
   "source": [
    "todos=[]\n",
    "while True:\n",
    "    user_action=input(\"enter add , show, exit :\")\n",
    "    user_action=user_action.strip()\n",
    "    \n",
    "    match user_action:\n",
    "        case \"add\":\n",
    "            todo=input(\"Enter a todo\")\n",
    "            todos.append(todo)\n",
    "        case \"show\":\n",
    "            print(todos)\n",
    "        case \"edit\":\n",
    "            print(\"edit\")\n",
    "        case \"exit\":\n",
    "            break\n",
    "        case _:\n",
    "            print(\"please ente your valid entry\")\n",
    "print(\"bye\")"
   ]
  },
  {
   "cell_type": "code",
   "execution_count": null,
   "metadata": {},
   "outputs": [],
   "source": []
  }
 ],
 "metadata": {
  "kernelspec": {
   "display_name": "base",
   "language": "python",
   "name": "python3"
  },
  "language_info": {
   "codemirror_mode": {
    "name": "ipython",
    "version": 3
   },
   "file_extension": ".py",
   "mimetype": "text/x-python",
   "name": "python",
   "nbconvert_exporter": "python",
   "pygments_lexer": "ipython3",
   "version": "3.10.11"
  },
  "orig_nbformat": 4
 },
 "nbformat": 4,
 "nbformat_minor": 2
}
